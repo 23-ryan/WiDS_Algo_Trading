{
 "cells": [
  {
   "cell_type": "markdown",
   "metadata": {},
   "source": [
    "# ***Frozen Lake*** Game Using **Reinforcement Learning**"
   ]
  },
  {
   "cell_type": "markdown",
   "metadata": {},
   "source": [
    "\n",
    "- This game implements ***Q-Value Iteration*** a simple reinforcement learning algorithm using **Bellman's Condition** to ultimately find the optimal **Q-value function** i.e, **$q_{*}(s, a)$**, (which is in the form of a matrix) corresponding to the optimal *policy ($\\pi$)*. \n",
    "- The game uses a inbuilt python library called **gymnassium (gym)** to construct a environmnet mainly consisting of **state, actions and reward** to help the agent to learn the correct set of parametres for the **Q-Value** fuction."
   ]
  },
  {
   "cell_type": "markdown",
   "metadata": {},
   "source": [
    "### ***Library Imports***"
   ]
  },
  {
   "cell_type": "code",
   "execution_count": 1,
   "metadata": {},
   "outputs": [],
   "source": [
    "import numpy as np\n",
    "import matplotlib.pyplot as plt\n",
    "import gym\n",
    "import time\n",
    "import random\n",
    "import sys\n",
    "from IPython.display import clear_output"
   ]
  },
  {
   "cell_type": "markdown",
   "metadata": {},
   "source": [
    "### ***Creating Game Environment***"
   ]
  },
  {
   "cell_type": "code",
   "execution_count": 2,
   "metadata": {},
   "outputs": [],
   "source": [
    "env = gym.make('FrozenLake-v1', render_mode = 'ansi')"
   ]
  },
  {
   "cell_type": "markdown",
   "metadata": {},
   "source": [
    "### ***Environment Parametres***"
   ]
  },
  {
   "cell_type": "code",
   "execution_count": 6,
   "metadata": {},
   "outputs": [
    {
     "name": "stdout",
     "output_type": "stream",
     "text": [
      "(16, 4)\n"
     ]
    }
   ],
   "source": [
    "actionSpace = env.action_space.n\n",
    "obsvSpace = env.observation_space.n\n",
    "\n",
    "qTable = np.zeros((obsvSpace, actionSpace))\n",
    "print(qTable.shape)"
   ]
  },
  {
   "cell_type": "markdown",
   "metadata": {},
   "source": [
    "### ***Hyper Parametres***"
   ]
  },
  {
   "cell_type": "code",
   "execution_count": 4,
   "metadata": {},
   "outputs": [],
   "source": [
    "numEp = 10000\n",
    "maxStep = 100\n",
    "lRate = 0.1 # alpha\n",
    "discRate = 0.99 # gamma\n",
    "\n",
    "exploreRate = 1 # epsilon\n",
    "max_exploreRate = 1\n",
    "min_exploreRate = 0.01\n",
    "explorationDecayRate = 0.001"
   ]
  },
  {
   "cell_type": "markdown",
   "metadata": {},
   "source": [
    "## ***Running the Algorithm***"
   ]
  },
  {
   "cell_type": "code",
   "execution_count": 9,
   "metadata": {},
   "outputs": [
    {
     "name": "stdout",
     "output_type": "stream",
     "text": [
      "1000 0.042\n",
      "2000 0.242\n",
      "3000 0.426\n",
      "4000 0.527\n",
      "5000 0.628\n",
      "6000 0.663\n",
      "7000 0.672\n",
      "8000 0.682\n",
      "9000 0.68\n",
      "10000 0.696\n",
      "[[0.55778616 0.52274245 0.51812339 0.50987385]\n",
      " [0.27558136 0.28653628 0.25290753 0.52534072]\n",
      " [0.43559296 0.4072867  0.42010394 0.49304614]\n",
      " [0.35463767 0.31386921 0.29210148 0.46814926]\n",
      " [0.57309453 0.38256899 0.48090706 0.3860138 ]\n",
      " [0.         0.         0.         0.        ]\n",
      " [0.16305579 0.0867992  0.34188404 0.14527262]\n",
      " [0.         0.         0.         0.        ]\n",
      " [0.41527402 0.35751852 0.40528723 0.61308573]\n",
      " [0.38177451 0.69389212 0.40848427 0.29878188]\n",
      " [0.69685542 0.41173134 0.38148153 0.46659834]\n",
      " [0.         0.         0.         0.        ]\n",
      " [0.         0.         0.         0.        ]\n",
      " [0.57488432 0.59778534 0.76243529 0.35552625]\n",
      " [0.73260428 0.89536825 0.77881391 0.77578037]\n",
      " [0.         0.         0.         0.        ]]\n"
     ]
    }
   ],
   "source": [
    "rewardsTotal = []\n",
    "\n",
    "for ep in range(numEp):\n",
    "    \n",
    "    state = env.reset()[0]\n",
    "    done = False # win or loose of the game\n",
    "    rewCurrEp = 0\n",
    "    for step in range(maxStep):\n",
    "        exploThreshold = random.uniform(0, 1)\n",
    "        if(exploThreshold > exploreRate):\n",
    "            action = np.argmax(np.array(qTable[state,:]))\n",
    "        else:\n",
    "            action = env.action_space.sample()\n",
    "\n",
    "        # UPDATION STEP\n",
    "        # q(s, a) = q(s, a) + alpha*(q*(s, a) - q(s, a))\n",
    "        # q(s, a) = q(s, a)(1-alpha) + (alpha)(E[R + max(q(s_, a_))] - q(s, a))\n",
    "        \n",
    "        newState, reward, done, truncated, info = env.step(action)\n",
    "        qTable[state,action] = (1-lRate)*qTable[state,action] + lRate*(reward + discRate*np.max(np.array(qTable[newState,:])))\n",
    "        \n",
    "#         if(np.any(qTable>0.5)):\n",
    "#             print(state)\n",
    "#             print(newState)\n",
    "#             print(qTable)\n",
    "#             sys.exit(0)\n",
    "        state = newState\n",
    "        rewCurrEp += reward\n",
    "\n",
    "        if(done):\n",
    "            break\n",
    "    \n",
    "\n",
    "    exploreRate = min_exploreRate + (max_exploreRate - min_exploreRate)* np.exp(-explorationDecayRate*ep)\n",
    "    rewardsTotal.append(rewCurrEp)\n",
    "\n",
    "rewardPerThousandIteration = np.split(np.array(rewardsTotal), numEp/1000)\n",
    "\n",
    "cnt = 1000\n",
    "for r in rewardPerThousandIteration:\n",
    "    print(cnt, np.sum(r)/1000)\n",
    "    cnt += 1000\n",
    "\n",
    "print(qTable)\n"
   ]
  },
  {
   "cell_type": "markdown",
   "metadata": {},
   "source": [
    "## ***Some Statistics***"
   ]
  },
  {
   "cell_type": "code",
   "execution_count": 10,
   "metadata": {},
   "outputs": [
    {
     "data": {
      "image/png": "[encoded data removed]",
      "text/plain": [
       "<Figure size 432x288 with 1 Axes>"
      ]
     },
     "metadata": {
      "needs_background": "dark"
     },
     "output_type": "display_data"
    }
   ],
   "source": [
    "plt.style.use(\"dark_background\")\n",
    "\n",
    "\n",
    "plt.title('Reward Visualization')\n",
    "plt.xlabel('Number of Iteration')\n",
    "plt.ylabel('Average Reward')\n",
    "\n",
    "\n",
    "avgReward = np.array([np.mean(r) for r in rewardPerThousandIteration])\n",
    "\n",
    "\n",
    "plt.plot(np.array(range(1000, 10001, 1000)), avgReward, color='green')\n",
    "plt.scatter(np.array(range(1000, 10001, 1000)), avgReward, color='orange')\n",
    "plt.show()"
   ]
  },
  {
   "cell_type": "markdown",
   "metadata": {},
   "source": [
    "## ***AI Model In Action***"
   ]
  },
  {
   "cell_type": "code",
   "execution_count": 12,
   "metadata": {},
   "outputs": [
    {
     "name": "stdout",
     "output_type": "stream",
     "text": [
      "  (Down)\n",
      "SFFF\n",
      "FHFH\n",
      "FFFH\n",
      "HFF\u001b[41mG\u001b[0m\n",
      "\n",
      "YOU WON!!\n"
     ]
    }
   ],
   "source": [
    "# After training is done, now we will try to play that game\n",
    "for ep in range(1):\n",
    "    state = env.reset()[0]\n",
    "    done = False\n",
    "    print(\"New Episode\")\n",
    "    time.sleep(3)\n",
    "\n",
    "    for step in range(maxStep):\n",
    "        clear_output(wait=True)\n",
    "        if(env.render() == None):\n",
    "            sys.exit(0)\n",
    "        print(env.render())\n",
    "        time.sleep(0.2)\n",
    "        action = np.argmax(qTable[state,:])\n",
    "        newState, reward, done, truncated, info = env.step(action)\n",
    "\n",
    "        if(done):\n",
    "            clear_output(wait=True)\n",
    "            print(env.render())\n",
    "            if(reward == 1):\n",
    "                print(\"YOU WON!!\")\n",
    "                time.sleep(2)\n",
    "            else:\n",
    "                print(\"HOLE DROWNED YOU!!\")\n",
    "                time.sleep(2)\n",
    "\n",
    "            break\n",
    "            \n",
    "        state = newState\n",
    "\n",
    "env.close()"
   ]
  }
 ],
 "metadata": {
  "kernelspec": {
   "display_name": "Python 3",
   "language": "python",
   "name": "python3"
  },
  "language_info": {
   "codemirror_mode": {
    "name": "ipython",
    "version": 3
   },
   "file_extension": ".py",
   "mimetype": "text/x-python",
   "name": "python",
   "nbconvert_exporter": "python",
   "pygments_lexer": "ipython3",
   "version": "3.8.10"
  },
  "vscode": {
   "interpreter": {
    "hash": "5b3ded1ccb95c1d9bd405e7b823d9e85424cde40fbb5985eb47e999ef50e15b4"
   }
  }
 },
 "nbformat": 4,
 "nbformat_minor": 2
}
