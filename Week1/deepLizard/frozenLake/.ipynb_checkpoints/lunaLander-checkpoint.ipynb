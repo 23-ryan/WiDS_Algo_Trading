{
 "cells": [
  {
   "cell_type": "code",
   "execution_count": 33,
   "metadata": {},
   "outputs": [],
   "source": [
    "import numpy as np\n",
    "import matplotlib.pyplot as plt\n",
    "import random\n",
    "import sys\n",
    "import time\n",
    "import math\n",
    "plt.style.use(\"dark_background\")"
   ]
  },
  {
   "cell_type": "code",
   "execution_count": 44,
   "metadata": {},
   "outputs": [],
   "source": [
    "boardLen = 6\n",
    "gamma = 0.5\n",
    "gameBoard = np.zeros(shape=(1, boardLen))\n",
    "reward = np.zeros((1, boardLen))\n",
    "reward[0, 0] = 100.0\n",
    "reward[0, boardLen-1] = 40.0\n",
    "actions = np.array([0, 1])"
   ]
  },
  {
   "cell_type": "code",
   "execution_count": 45,
   "metadata": {},
   "outputs": [],
   "source": [
    "def resetGame():\n",
    "    gameBoard = np.zeros((1, boardLen))"
   ]
  },
  {
   "cell_type": "code",
   "execution_count": 49,
   "metadata": {},
   "outputs": [],
   "source": [
    "def updateCell(cell, boardCopy, board):\n",
    "    \n",
    "    if(cell == 0):\n",
    "        maxVal = reward[0, cell]\n",
    "    elif(cell == boardLen-1):\n",
    "        maxVal = reward[0, cell]\n",
    "    else:\n",
    "        maxVal = 0;\n",
    "        for action in actions:\n",
    "            if(action == 0):\n",
    "                newVal = reward[0, cell] + gamma*(board[0, cell-1])\n",
    "                maxVal = max(newVal, maxVal)\n",
    "            elif(action == 1):\n",
    "                newVal = reward[0, cell] + gamma*(board[0, cell+1])\n",
    "                maxVal = max(newVal, maxVal)\n",
    "    \n",
    "    boardCopy[0, cell] = maxVal"
   ]
  },
  {
   "cell_type": "code",
   "execution_count": 65,
   "metadata": {},
   "outputs": [
    {
     "name": "stdout",
     "output_type": "stream",
     "text": [
      "[[100.   50.   25.   12.5  20.   40. ]]\n"
     ]
    }
   ],
   "source": [
    "resetGame()\n",
    "valueTable = gameBoard\n",
    "numIter = 30\n",
    "for i in range(numIter):\n",
    "    boardCopy = valueTable.copy()\n",
    "    for cell in range(boardLen):\n",
    "        updateCell(cell, boardCopy, valueTable) # the updated value are stored in boardCopy\n",
    "    valueTable = boardCopy\n",
    "\n",
    "print(valueTable)"
   ]
  },
  {
   "cell_type": "code",
   "execution_count": 71,
   "metadata": {},
   "outputs": [],
   "source": [
    "def playGame(position):\n",
    "    if(position == 0 or position == boardLen-1):\n",
    "        return position\n",
    "    \n",
    "    cell = position\n",
    "    while(cell != 0 or cell !=boardLen-1):\n",
    "        cell = np.argmax(np.array([valueTable[0, cell+1], valueTable[0, cell-1]]))\n",
    "    \n",
    "    return cell"
   ]
  },
  {
   "cell_type": "code",
   "execution_count": null,
   "metadata": {},
   "outputs": [],
   "source": [
    "playGame(1)"
   ]
  }
 ],
 "metadata": {
  "kernelspec": {
   "display_name": "Python 3",
   "language": "python",
   "name": "python3"
  },
  "language_info": {
   "codemirror_mode": {
    "name": "ipython",
    "version": 3
   },
   "file_extension": ".py",
   "mimetype": "text/x-python",
   "name": "python",
   "nbconvert_exporter": "python",
   "pygments_lexer": "ipython3",
   "version": "3.8.10"
  }
 },
 "nbformat": 4,
 "nbformat_minor": 4
}
