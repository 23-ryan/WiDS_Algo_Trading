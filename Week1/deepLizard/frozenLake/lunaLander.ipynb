{
 "cells": [
  {
   "cell_type": "code",
   "execution_count": 9,
   "metadata": {},
   "outputs": [],
   "source": [
    "import numpy as np\n",
    "import matplotlib.pyplot as plt\n",
    "import random\n",
    "import sys\n",
    "import time\n",
    "import math\n",
    "plt.style.use(\"dark_background\")"
   ]
  },
  {
   "cell_type": "code",
   "execution_count": 91,
   "metadata": {},
   "outputs": [],
   "source": [
    "boardLen = 50\n",
    "gamma = 0.9999\n",
    "gameBoard = np.zeros(shape=(1, boardLen))\n",
    "reward = np.zeros((1, boardLen))\n",
    "reward[0, 0] = 100.0\n",
    "reward[0, boardLen-1] = 30.0\n",
    "actions = np.array([0, 1])"
   ]
  },
  {
   "cell_type": "code",
   "execution_count": 11,
   "metadata": {},
   "outputs": [],
   "source": [
    "def resetGame():\n",
    "    gameBoard = np.zeros((1, boardLen))"
   ]
  },
  {
   "cell_type": "code",
   "execution_count": 76,
   "metadata": {},
   "outputs": [],
   "source": [
    "def updateCell(cell, boardCopy, board):\n",
    "    \n",
    "    if(cell == 0):\n",
    "        maxVal = reward[0, cell]\n",
    "    elif(cell == boardLen-1):\n",
    "        maxVal = reward[0, cell]\n",
    "    else:\n",
    "        maxVal = 0;\n",
    "        for action in actions:\n",
    "            if(action == 0):\n",
    "                newVal = reward[0, cell] + gamma*(board[0, cell-1])\n",
    "                maxVal = max(newVal, maxVal)\n",
    "            elif(action == 1):\n",
    "                newVal = reward[0, cell] + gamma*(board[0, cell+1])\n",
    "                maxVal = max(newVal, maxVal)\n",
    "    \n",
    "    boardCopy[0, cell] = maxVal"
   ]
  },
  {
   "cell_type": "code",
   "execution_count": 93,
   "metadata": {},
   "outputs": [
    {
     "name": "stdout",
     "output_type": "stream",
     "text": [
      "[[100.          99.99        99.980001    99.970003    99.960006\n",
      "   99.95001     99.940015    99.930021    99.92002799  99.91003599\n",
      "   99.90004499  99.89005498  99.88006598  99.87007797  99.86009096\n",
      "   99.85010495  99.84011994  99.83013593  99.82015292  99.8101709\n",
      "   99.80018989  99.79020987  99.78023085  99.77025282  99.7602758\n",
      "   99.75029977  99.74032474  99.73035071  99.72037767  99.71040563\n",
      "   29.94305127  29.94604588  29.94904078  29.95203598  29.95503149\n",
      "   29.95802729  29.96102339  29.96401979  29.9670165   29.9700135\n",
      "   29.9730108   29.9760084   29.9790063   29.9820045   29.985003\n",
      "   29.9880018   29.9910009   29.9940003   29.997       30.        ]]\n"
     ]
    }
   ],
   "source": [
    "resetGame()\n",
    "valueTable = gameBoard\n",
    "numIter = 30\n",
    "for i in range(numIter):\n",
    "    boardCopy = valueTable.copy()\n",
    "    for cell in range(boardLen):\n",
    "        updateCell(cell, boardCopy, valueTable) # the updated value are stored in boardCopy\n",
    "    valueTable = boardCopy\n",
    "\n",
    "print(valueTable)"
   ]
  },
  {
   "cell_type": "code",
   "execution_count": 95,
   "metadata": {},
   "outputs": [],
   "source": [
    "def playGame(position):\n",
    "    if(position == 0 or position == boardLen-1):\n",
    "        return position\n",
    "    \n",
    "    cell = position\n",
    "    while(cell != 0 and cell !=boardLen-1):\n",
    "        action = np.argmax(np.array([valueTable[0, cell-1], valueTable[0, cell+1]]))\n",
    "        if(action == 0):\n",
    "            cell = cell-1\n",
    "        else:\n",
    "            cell = cell + 1\n",
    "#         print(valueTable[0, cell])\n",
    "    return cell"
   ]
  },
  {
   "cell_type": "code",
   "execution_count": 96,
   "metadata": {},
   "outputs": [
    {
     "name": "stdout",
     "output_type": "stream",
     "text": [
      "[[100.          99.99        99.980001    99.970003    99.960006\n",
      "   99.95001     99.940015    99.930021    99.92002799  99.91003599\n",
      "   99.90004499  99.89005498  99.88006598  99.87007797  99.86009096\n",
      "   99.85010495  99.84011994  99.83013593  99.82015292  99.8101709\n",
      "   99.80018989  99.79020987  99.78023085  99.77025282  99.7602758\n",
      "   99.75029977  99.74032474  99.73035071  99.72037767  99.71040563\n",
      "   29.94305127  29.94604588  29.94904078  29.95203598  29.95503149\n",
      "   29.95802729  29.96102339  29.96401979  29.9670165   29.9700135\n",
      "   29.9730108   29.9760084   29.9790063   29.9820045   29.985003\n",
      "   29.9880018   29.9910009   29.9940003   29.997       30.        ]]\n"
     ]
    },
    {
     "data": {
      "text/plain": [
       "0"
      ]
     },
     "execution_count": 96,
     "metadata": {},
     "output_type": "execute_result"
    }
   ],
   "source": [
    "print(valueTable)\n",
    "playGame(30)"
   ]
  }
 ],
 "metadata": {
  "kernelspec": {
   "display_name": "Python 3",
   "language": "python",
   "name": "python3"
  },
  "language_info": {
   "codemirror_mode": {
    "name": "ipython",
    "version": 3
   },
   "file_extension": ".py",
   "mimetype": "text/x-python",
   "name": "python",
   "nbconvert_exporter": "python",
   "pygments_lexer": "ipython3",
   "version": "3.8.10"
  }
 },
 "nbformat": 4,
 "nbformat_minor": 4
}
